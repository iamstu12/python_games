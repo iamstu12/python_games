{
 "cells": [
  {
   "cell_type": "markdown",
   "metadata": {},
   "source": [
    "### Import Libraries:"
   ]
  },
  {
   "cell_type": "code",
   "execution_count": 1,
   "metadata": {},
   "outputs": [],
   "source": [
    "import pandas as pd\n",
    "import numpy as np\n",
    "import janitor"
   ]
  },
  {
   "cell_type": "code",
   "execution_count": 2,
   "metadata": {},
   "outputs": [
    {
     "output_type": "stream",
     "name": "stdout",
     "text": [
      "/Users/Natifu/github_projects/python_games/cleaning_script\n"
     ]
    }
   ],
   "source": [
    "!pwd"
   ]
  },
  {
   "cell_type": "markdown",
   "metadata": {},
   "source": [
    "### Load in Data:"
   ]
  },
  {
   "cell_type": "code",
   "execution_count": 3,
   "metadata": {},
   "outputs": [],
   "source": [
    "ps4_raw = pd.read_csv(\"../raw_data/ps4-game-sales.csv\", encoding = \"ISO-8859-1\")"
   ]
  },
  {
   "cell_type": "code",
   "execution_count": 4,
   "metadata": {},
   "outputs": [],
   "source": [
    "xbox_raw = pd.read_csv(\"../raw_data/xbox-one-game-sales.csv\", encoding = \"ISO-8859-1\")"
   ]
  },
  {
   "cell_type": "code",
   "execution_count": 5,
   "metadata": {},
   "outputs": [],
   "source": [
    "sales2016_raw = pd.read_csv(\"../raw_data/sales-2016-with-ratings.csv\", encoding = \"ISO-8859-1\")"
   ]
  },
  {
   "cell_type": "code",
   "execution_count": 6,
   "metadata": {},
   "outputs": [],
   "source": [
    "sales2019_raw = pd.read_csv(\"../raw_data/sales-2019.csv\", encoding = \"ISO-8859-1\")"
   ]
  },
  {
   "cell_type": "markdown",
   "metadata": {},
   "source": [
    "# 2016 Sales"
   ]
  },
  {
   "cell_type": "markdown",
   "metadata": {},
   "source": [
    "### Check for missing values:"
   ]
  },
  {
   "cell_type": "code",
   "execution_count": 7,
   "metadata": {},
   "outputs": [
    {
     "output_type": "execute_result",
     "data": {
      "text/plain": [
       "Name                  2\n",
       "Platform              0\n",
       "Year_of_Release     269\n",
       "Genre                 2\n",
       "Publisher            54\n",
       "NA_Sales              0\n",
       "EU_Sales              0\n",
       "JP_Sales              0\n",
       "Other_Sales           0\n",
       "Global_Sales          0\n",
       "Critic_Score       8582\n",
       "Critic_Count       8582\n",
       "User_Score         6704\n",
       "User_Count         9129\n",
       "Developer          6623\n",
       "Rating             6769\n",
       "dtype: int64"
      ]
     },
     "metadata": {},
     "execution_count": 7
    }
   ],
   "source": [
    "sales2016_raw.isnull().sum()"
   ]
  },
  {
   "cell_type": "markdown",
   "metadata": {},
   "source": [
    "### Replace missing values:"
   ]
  },
  {
   "cell_type": "code",
   "execution_count": 8,
   "metadata": {},
   "outputs": [
    {
     "output_type": "execute_result",
     "data": {
      "text/plain": [
       "Name                  0\n",
       "Platform              0\n",
       "Year_of_Release       0\n",
       "Genre                 0\n",
       "Publisher             0\n",
       "NA_Sales              0\n",
       "EU_Sales              0\n",
       "JP_Sales              0\n",
       "Other_Sales           0\n",
       "Global_Sales          0\n",
       "Critic_Score       8582\n",
       "Critic_Count       8582\n",
       "User_Score         6704\n",
       "User_Count         9129\n",
       "Developer          6623\n",
       "Rating             6769\n",
       "dtype: int64"
      ]
     },
     "metadata": {},
     "execution_count": 8
    }
   ],
   "source": [
    "sales2016_raw[\"Name\"].fillna(\"Unknown\", inplace = True)\n",
    "sales2016_raw[\"Year_of_Release\"].fillna(\"Unknown\", inplace = True)\n",
    "sales2016_raw[\"Genre\"].fillna(\"Other\", inplace = True)\n",
    "sales2016_raw[\"Publisher\"].fillna(\"Unknown\", inplace = True)\n",
    "\n",
    "sales2016_raw.isnull().sum()"
   ]
  },
  {
   "cell_type": "markdown",
   "metadata": {},
   "source": [
    "### Drop unwanted columns:"
   ]
  },
  {
   "cell_type": "code",
   "execution_count": 9,
   "metadata": {},
   "outputs": [
    {
     "output_type": "execute_result",
     "data": {
      "text/plain": [
       "Name               0\n",
       "Platform           0\n",
       "Year_of_Release    0\n",
       "Genre              0\n",
       "Publisher          0\n",
       "NA_Sales           0\n",
       "EU_Sales           0\n",
       "JP_Sales           0\n",
       "Other_Sales        0\n",
       "Global_Sales       0\n",
       "dtype: int64"
      ]
     },
     "metadata": {},
     "execution_count": 9
    }
   ],
   "source": [
    "sales2016_clean = sales2016_raw.drop([\"Critic_Score\", \"Critic_Count\", \"User_Score\", \"User_Count\", \"Developer\", \"Rating\"], \n",
    "                   axis = 1)\n",
    "\n",
    "sales2016_clean.isnull().sum()"
   ]
  },
  {
   "source": [
    "### Clean column names:"
   ],
   "cell_type": "markdown",
   "metadata": {}
  },
  {
   "cell_type": "code",
   "execution_count": 10,
   "metadata": {},
   "outputs": [],
   "source": [
    "sales2016_clean = sales2016_clean.clean_names()"
   ]
  },
  {
   "source": [
    "### Rename platform column to 'console':"
   ],
   "cell_type": "markdown",
   "metadata": {}
  },
  {
   "cell_type": "code",
   "execution_count": 11,
   "metadata": {},
   "outputs": [],
   "source": [
    "sales2016_clean.rename({\"platform\" : \"console\"}, \n",
    "                        axis = \"columns\",\n",
    "                        inplace = True)"
   ]
  },
  {
   "cell_type": "code",
   "execution_count": 12,
   "metadata": {},
   "outputs": [
    {
     "output_type": "execute_result",
     "data": {
      "text/plain": [
       "array(['Sports', 'Platform', 'Racing', 'Role-Playing', 'Puzzle', 'Misc',\n",
       "       'Shooter', 'Simulation', 'Action', 'Fighting', 'Adventure',\n",
       "       'Strategy', 'Other'], dtype=object)"
      ]
     },
     "metadata": {},
     "execution_count": 12
    }
   ],
   "source": [
    "sales2016_clean[\"genre\"].unique()"
   ]
  },
  {
   "source": [
    "### Tidy up genre names:"
   ],
   "cell_type": "markdown",
   "metadata": {}
  },
  {
   "cell_type": "code",
   "execution_count": 13,
   "metadata": {},
   "outputs": [
    {
     "output_type": "execute_result",
     "data": {
      "text/plain": [
       "array(['Sports', 'Platform', 'Racing', 'Role-Playing', 'Puzzle', 'Other',\n",
       "       'Shooter', 'Simulation', 'Action-Adventure', 'Fighting'],\n",
       "      dtype=object)"
      ]
     },
     "metadata": {},
     "execution_count": 13
    }
   ],
   "source": [
    "sales2016_clean.replace({\"genre\" : {\"Misc\": \"Other\",\n",
    "                                    \"Action\": \"Action-Adventure\",\n",
    "                                    \"Adventure\": \"Action-Adventure\",\n",
    "                                    \"Strategy\": \"Other\"}}, \n",
    "                                    inplace = True)\n",
    "\n",
    "sales2016_clean[\"genre\"].unique()"
   ]
  },
  {
   "source": [
    "### Remove duplicates:"
   ],
   "cell_type": "markdown",
   "metadata": {}
  },
  {
   "cell_type": "code",
   "execution_count": null,
   "metadata": {},
   "outputs": [],
   "source": []
  },
  {
   "cell_type": "code",
   "execution_count": 65,
   "metadata": {},
   "outputs": [
    {
     "output_type": "error",
     "ename": "ValueError",
     "evalue": "Cannot index with multidimensional key",
     "traceback": [
      "\u001b[0;31m---------------------------------------------------------------------------\u001b[0m",
      "\u001b[0;31mValueError\u001b[0m                                Traceback (most recent call last)",
      "\u001b[0;32m<ipython-input-65-4f4e7c292bb8>\u001b[0m in \u001b[0;36m<module>\u001b[0;34m\u001b[0m\n\u001b[1;32m      1\u001b[0m \u001b[0mdf\u001b[0m \u001b[0;34m=\u001b[0m \u001b[0msales2016_clean\u001b[0m\u001b[0;34m.\u001b[0m\u001b[0mgroupby\u001b[0m\u001b[0;34m(\u001b[0m\u001b[0;34m[\u001b[0m\u001b[0;34m'name'\u001b[0m\u001b[0;34m,\u001b[0m \u001b[0;34m'console'\u001b[0m\u001b[0;34m]\u001b[0m\u001b[0;34m)\u001b[0m\u001b[0;34m.\u001b[0m\u001b[0msize\u001b[0m\u001b[0;34m(\u001b[0m\u001b[0;34m)\u001b[0m\u001b[0;34m.\u001b[0m\u001b[0mreset_index\u001b[0m\u001b[0;34m(\u001b[0m\u001b[0mname\u001b[0m \u001b[0;34m=\u001b[0m \u001b[0;34m'count'\u001b[0m\u001b[0;34m)\u001b[0m\u001b[0;34m.\u001b[0m\u001b[0msort_values\u001b[0m\u001b[0;34m(\u001b[0m\u001b[0;34m'count'\u001b[0m\u001b[0;34m,\u001b[0m \u001b[0mascending\u001b[0m \u001b[0;34m=\u001b[0m \u001b[0;32mFalse\u001b[0m\u001b[0;34m)\u001b[0m\u001b[0;34m\u001b[0m\u001b[0;34m\u001b[0m\u001b[0m\n\u001b[1;32m      2\u001b[0m \u001b[0;34m\u001b[0m\u001b[0m\n\u001b[0;32m----> 3\u001b[0;31m \u001b[0mdf\u001b[0m\u001b[0;34m.\u001b[0m\u001b[0mloc\u001b[0m\u001b[0;34m[\u001b[0m\u001b[0mdf\u001b[0m\u001b[0;34m[\u001b[0m\u001b[0;34m[\u001b[0m\u001b[0;34m'count'\u001b[0m\u001b[0;34m]\u001b[0m\u001b[0;34m]\u001b[0m \u001b[0;34m>\u001b[0m \u001b[0;36m1\u001b[0m\u001b[0;34m]\u001b[0m\u001b[0;34m\u001b[0m\u001b[0;34m\u001b[0m\u001b[0m\n\u001b[0m",
      "\u001b[0;32m~/opt/anaconda3/lib/python3.8/site-packages/pandas/core/indexing.py\u001b[0m in \u001b[0;36m__getitem__\u001b[0;34m(self, key)\u001b[0m\n\u001b[1;32m    893\u001b[0m \u001b[0;34m\u001b[0m\u001b[0m\n\u001b[1;32m    894\u001b[0m             \u001b[0mmaybe_callable\u001b[0m \u001b[0;34m=\u001b[0m \u001b[0mcom\u001b[0m\u001b[0;34m.\u001b[0m\u001b[0mapply_if_callable\u001b[0m\u001b[0;34m(\u001b[0m\u001b[0mkey\u001b[0m\u001b[0;34m,\u001b[0m \u001b[0mself\u001b[0m\u001b[0;34m.\u001b[0m\u001b[0mobj\u001b[0m\u001b[0;34m)\u001b[0m\u001b[0;34m\u001b[0m\u001b[0;34m\u001b[0m\u001b[0m\n\u001b[0;32m--> 895\u001b[0;31m             \u001b[0;32mreturn\u001b[0m \u001b[0mself\u001b[0m\u001b[0;34m.\u001b[0m\u001b[0m_getitem_axis\u001b[0m\u001b[0;34m(\u001b[0m\u001b[0mmaybe_callable\u001b[0m\u001b[0;34m,\u001b[0m \u001b[0maxis\u001b[0m\u001b[0;34m=\u001b[0m\u001b[0maxis\u001b[0m\u001b[0;34m)\u001b[0m\u001b[0;34m\u001b[0m\u001b[0;34m\u001b[0m\u001b[0m\n\u001b[0m\u001b[1;32m    896\u001b[0m \u001b[0;34m\u001b[0m\u001b[0m\n\u001b[1;32m    897\u001b[0m     \u001b[0;32mdef\u001b[0m \u001b[0m_is_scalar_access\u001b[0m\u001b[0;34m(\u001b[0m\u001b[0mself\u001b[0m\u001b[0;34m,\u001b[0m \u001b[0mkey\u001b[0m\u001b[0;34m:\u001b[0m \u001b[0mTuple\u001b[0m\u001b[0;34m)\u001b[0m\u001b[0;34m:\u001b[0m\u001b[0;34m\u001b[0m\u001b[0;34m\u001b[0m\u001b[0m\n",
      "\u001b[0;32m~/opt/anaconda3/lib/python3.8/site-packages/pandas/core/indexing.py\u001b[0m in \u001b[0;36m_getitem_axis\u001b[0;34m(self, key, axis)\u001b[0m\n\u001b[1;32m   1109\u001b[0m \u001b[0;34m\u001b[0m\u001b[0m\n\u001b[1;32m   1110\u001b[0m                 \u001b[0;32mif\u001b[0m \u001b[0mhasattr\u001b[0m\u001b[0;34m(\u001b[0m\u001b[0mkey\u001b[0m\u001b[0;34m,\u001b[0m \u001b[0;34m\"ndim\"\u001b[0m\u001b[0;34m)\u001b[0m \u001b[0;32mand\u001b[0m \u001b[0mkey\u001b[0m\u001b[0;34m.\u001b[0m\u001b[0mndim\u001b[0m \u001b[0;34m>\u001b[0m \u001b[0;36m1\u001b[0m\u001b[0;34m:\u001b[0m\u001b[0;34m\u001b[0m\u001b[0;34m\u001b[0m\u001b[0m\n\u001b[0;32m-> 1111\u001b[0;31m                     \u001b[0;32mraise\u001b[0m \u001b[0mValueError\u001b[0m\u001b[0;34m(\u001b[0m\u001b[0;34m\"Cannot index with multidimensional key\"\u001b[0m\u001b[0;34m)\u001b[0m\u001b[0;34m\u001b[0m\u001b[0;34m\u001b[0m\u001b[0m\n\u001b[0m\u001b[1;32m   1112\u001b[0m \u001b[0;34m\u001b[0m\u001b[0m\n\u001b[1;32m   1113\u001b[0m                 \u001b[0;32mreturn\u001b[0m \u001b[0mself\u001b[0m\u001b[0;34m.\u001b[0m\u001b[0m_getitem_iterable\u001b[0m\u001b[0;34m(\u001b[0m\u001b[0mkey\u001b[0m\u001b[0;34m,\u001b[0m \u001b[0maxis\u001b[0m\u001b[0;34m=\u001b[0m\u001b[0maxis\u001b[0m\u001b[0;34m)\u001b[0m\u001b[0;34m\u001b[0m\u001b[0;34m\u001b[0m\u001b[0m\n",
      "\u001b[0;31mValueError\u001b[0m: Cannot index with multidimensional key"
     ]
    }
   ],
   "source": [
    "df = sales2016_clean.groupby(['name', 'console']).size().reset_index(name = 'count').sort_values('count', ascending = False)\n",
    "\n",
    "df.loc[df[['count']] > 1]"
   ]
  },
  {
   "cell_type": "code",
   "execution_count": 39,
   "metadata": {},
   "outputs": [
    {
     "output_type": "execute_result",
     "data": {
      "text/plain": [
       "                               name console year_of_release             genre  \\\n",
       "3862           Frozen: Olaf's Quest      DS          2013.0          Platform   \n",
       "14660        007: Quantum of Solace      PC          2008.0  Action-Adventure   \n",
       "1785         007: Quantum of Solace     PS3          2008.0  Action-Adventure   \n",
       "3120         007: Quantum of Solace     Wii          2008.0  Action-Adventure   \n",
       "4475         007: Quantum of Solace     PS2          2008.0  Action-Adventure   \n",
       "...                             ...     ...             ...               ...   \n",
       "12649     pro evolution soccer 2011      PC          2010.0            Sports   \n",
       "2583      pro evolution soccer 2011     PSP          2010.0            Sports   \n",
       "4664      pro evolution soccer 2011     PS2          2010.0            Sports   \n",
       "3304      pro evolution soccer 2011    X360          2010.0            Sports   \n",
       "15614  uDraw Studio: Instant Artist    X360          2011.0             Other   \n",
       "\n",
       "                          publisher  na_sales  eu_sales  jp_sales  \\\n",
       "3862     Disney Interactive Studios      0.21      0.26      0.00   \n",
       "14660                    Activision      0.01      0.01      0.00   \n",
       "1785                     Activision      0.43      0.51      0.02   \n",
       "3120                     Activision      0.29      0.28      0.01   \n",
       "4475                     Activision      0.17      0.00      0.00   \n",
       "...                             ...       ...       ...       ...   \n",
       "12649  Konami Digital Entertainment      0.00      0.05      0.00   \n",
       "2583   Konami Digital Entertainment      0.05      0.30      0.29   \n",
       "4664   Konami Digital Entertainment      0.04      0.21      0.05   \n",
       "3304   Konami Digital Entertainment      0.09      0.44      0.00   \n",
       "15614                           THQ      0.01      0.01      0.00   \n",
       "\n",
       "       other_sales  global_sales  \n",
       "3862          0.04          0.52  \n",
       "14660         0.00          0.03  \n",
       "1785          0.19          1.14  \n",
       "3120          0.07          0.65  \n",
       "4475          0.26          0.43  \n",
       "...            ...           ...  \n",
       "12649         0.01          0.06  \n",
       "2583          0.16          0.79  \n",
       "4664          0.11          0.41  \n",
       "3304          0.07          0.61  \n",
       "15614         0.00          0.02  \n",
       "\n",
       "[5156 rows x 10 columns]"
      ],
      "text/html": "<div>\n<style scoped>\n    .dataframe tbody tr th:only-of-type {\n        vertical-align: middle;\n    }\n\n    .dataframe tbody tr th {\n        vertical-align: top;\n    }\n\n    .dataframe thead th {\n        text-align: right;\n    }\n</style>\n<table border=\"1\" class=\"dataframe\">\n  <thead>\n    <tr style=\"text-align: right;\">\n      <th></th>\n      <th>name</th>\n      <th>console</th>\n      <th>year_of_release</th>\n      <th>genre</th>\n      <th>publisher</th>\n      <th>na_sales</th>\n      <th>eu_sales</th>\n      <th>jp_sales</th>\n      <th>other_sales</th>\n      <th>global_sales</th>\n    </tr>\n  </thead>\n  <tbody>\n    <tr>\n      <th>3862</th>\n      <td>Frozen: Olaf's Quest</td>\n      <td>DS</td>\n      <td>2013.0</td>\n      <td>Platform</td>\n      <td>Disney Interactive Studios</td>\n      <td>0.21</td>\n      <td>0.26</td>\n      <td>0.00</td>\n      <td>0.04</td>\n      <td>0.52</td>\n    </tr>\n    <tr>\n      <th>14660</th>\n      <td>007: Quantum of Solace</td>\n      <td>PC</td>\n      <td>2008.0</td>\n      <td>Action-Adventure</td>\n      <td>Activision</td>\n      <td>0.01</td>\n      <td>0.01</td>\n      <td>0.00</td>\n      <td>0.00</td>\n      <td>0.03</td>\n    </tr>\n    <tr>\n      <th>1785</th>\n      <td>007: Quantum of Solace</td>\n      <td>PS3</td>\n      <td>2008.0</td>\n      <td>Action-Adventure</td>\n      <td>Activision</td>\n      <td>0.43</td>\n      <td>0.51</td>\n      <td>0.02</td>\n      <td>0.19</td>\n      <td>1.14</td>\n    </tr>\n    <tr>\n      <th>3120</th>\n      <td>007: Quantum of Solace</td>\n      <td>Wii</td>\n      <td>2008.0</td>\n      <td>Action-Adventure</td>\n      <td>Activision</td>\n      <td>0.29</td>\n      <td>0.28</td>\n      <td>0.01</td>\n      <td>0.07</td>\n      <td>0.65</td>\n    </tr>\n    <tr>\n      <th>4475</th>\n      <td>007: Quantum of Solace</td>\n      <td>PS2</td>\n      <td>2008.0</td>\n      <td>Action-Adventure</td>\n      <td>Activision</td>\n      <td>0.17</td>\n      <td>0.00</td>\n      <td>0.00</td>\n      <td>0.26</td>\n      <td>0.43</td>\n    </tr>\n    <tr>\n      <th>...</th>\n      <td>...</td>\n      <td>...</td>\n      <td>...</td>\n      <td>...</td>\n      <td>...</td>\n      <td>...</td>\n      <td>...</td>\n      <td>...</td>\n      <td>...</td>\n      <td>...</td>\n    </tr>\n    <tr>\n      <th>12649</th>\n      <td>pro evolution soccer 2011</td>\n      <td>PC</td>\n      <td>2010.0</td>\n      <td>Sports</td>\n      <td>Konami Digital Entertainment</td>\n      <td>0.00</td>\n      <td>0.05</td>\n      <td>0.00</td>\n      <td>0.01</td>\n      <td>0.06</td>\n    </tr>\n    <tr>\n      <th>2583</th>\n      <td>pro evolution soccer 2011</td>\n      <td>PSP</td>\n      <td>2010.0</td>\n      <td>Sports</td>\n      <td>Konami Digital Entertainment</td>\n      <td>0.05</td>\n      <td>0.30</td>\n      <td>0.29</td>\n      <td>0.16</td>\n      <td>0.79</td>\n    </tr>\n    <tr>\n      <th>4664</th>\n      <td>pro evolution soccer 2011</td>\n      <td>PS2</td>\n      <td>2010.0</td>\n      <td>Sports</td>\n      <td>Konami Digital Entertainment</td>\n      <td>0.04</td>\n      <td>0.21</td>\n      <td>0.05</td>\n      <td>0.11</td>\n      <td>0.41</td>\n    </tr>\n    <tr>\n      <th>3304</th>\n      <td>pro evolution soccer 2011</td>\n      <td>X360</td>\n      <td>2010.0</td>\n      <td>Sports</td>\n      <td>Konami Digital Entertainment</td>\n      <td>0.09</td>\n      <td>0.44</td>\n      <td>0.00</td>\n      <td>0.07</td>\n      <td>0.61</td>\n    </tr>\n    <tr>\n      <th>15614</th>\n      <td>uDraw Studio: Instant Artist</td>\n      <td>X360</td>\n      <td>2011.0</td>\n      <td>Other</td>\n      <td>THQ</td>\n      <td>0.01</td>\n      <td>0.01</td>\n      <td>0.00</td>\n      <td>0.00</td>\n      <td>0.02</td>\n    </tr>\n  </tbody>\n</table>\n<p>5156 rows × 10 columns</p>\n</div>"
     },
     "metadata": {},
     "execution_count": 39
    }
   ],
   "source": [
    "sales2016_clean.loc[sales2016_clean.duplicated(subset='name')].sort_values('name')"
   ]
  },
  {
   "source": [
    "# 2019 Sales"
   ],
   "cell_type": "markdown",
   "metadata": {}
  },
  {
   "source": [
    "### Check for missing values:"
   ],
   "cell_type": "markdown",
   "metadata": {}
  },
  {
   "cell_type": "code",
   "execution_count": 15,
   "metadata": {},
   "outputs": [
    {
     "output_type": "execute_result",
     "data": {
      "text/plain": [
       "Rank                  0\n",
       "Name                  0\n",
       "basename              0\n",
       "Genre                 0\n",
       "ESRB_Rating       32169\n",
       "Platform              0\n",
       "Publisher             0\n",
       "Developer            17\n",
       "VGChartz_Score    55792\n",
       "Critic_Score      49256\n",
       "User_Score        55457\n",
       "Total_Shipped     53965\n",
       "Global_Sales      36377\n",
       "NA_Sales          42828\n",
       "PAL_Sales         42603\n",
       "JP_Sales          48749\n",
       "Other_Sales       40270\n",
       "Year                979\n",
       "Last_Update       46606\n",
       "url                   0\n",
       "status                0\n",
       "Vgchartzscore     54993\n",
       "img_url               0\n",
       "dtype: int64"
      ]
     },
     "metadata": {},
     "execution_count": 15
    }
   ],
   "source": [
    "\n",
    "(\n",
    "sales2019_raw\n",
    "    .isnull()\n",
    "    .sum()\n",
    ")\n"
   ]
  },
  {
   "source": [
    "### Clean names:"
   ],
   "cell_type": "markdown",
   "metadata": {}
  },
  {
   "cell_type": "code",
   "execution_count": 16,
   "metadata": {},
   "outputs": [],
   "source": [
    "sales2019_clean = sales2019_raw.clean_names()"
   ]
  },
  {
   "cell_type": "code",
   "execution_count": 17,
   "metadata": {},
   "outputs": [
    {
     "output_type": "execute_result",
     "data": {
      "text/plain": [
       "['name',\n",
       " 'console',\n",
       " 'year_of_release',\n",
       " 'genre',\n",
       " 'publisher',\n",
       " 'na_sales',\n",
       " 'eu_sales',\n",
       " 'jp_sales',\n",
       " 'other_sales',\n",
       " 'global_sales']"
      ]
     },
     "metadata": {},
     "execution_count": 17
    }
   ],
   "source": [
    "list(sales2016_clean)"
   ]
  },
  {
   "cell_type": "code",
   "execution_count": 18,
   "metadata": {},
   "outputs": [
    {
     "output_type": "execute_result",
     "data": {
      "text/plain": [
       "['rank',\n",
       " 'name',\n",
       " 'basename',\n",
       " 'genre',\n",
       " 'esrb_rating',\n",
       " 'platform',\n",
       " 'publisher',\n",
       " 'developer',\n",
       " 'vgchartz_score',\n",
       " 'critic_score',\n",
       " 'user_score',\n",
       " 'total_shipped',\n",
       " 'global_sales',\n",
       " 'na_sales',\n",
       " 'pal_sales',\n",
       " 'jp_sales',\n",
       " 'other_sales',\n",
       " 'year',\n",
       " 'last_update',\n",
       " 'url',\n",
       " 'status',\n",
       " 'vgchartzscore',\n",
       " 'img_url']"
      ]
     },
     "metadata": {},
     "execution_count": 18
    }
   ],
   "source": [
    "list(sales2019_clean)"
   ]
  },
  {
   "source": [
    "### Select relevant columns:"
   ],
   "cell_type": "markdown",
   "metadata": {}
  },
  {
   "cell_type": "code",
   "execution_count": 19,
   "metadata": {},
   "outputs": [
    {
     "output_type": "execute_result",
     "data": {
      "text/plain": [
       "['name',\n",
       " 'platform',\n",
       " 'year',\n",
       " 'genre',\n",
       " 'publisher',\n",
       " 'na_sales',\n",
       " 'pal_sales',\n",
       " 'jp_sales',\n",
       " 'other_sales',\n",
       " 'global_sales']"
      ]
     },
     "metadata": {},
     "execution_count": 19
    }
   ],
   "source": [
    "sales2019_clean = sales2019_clean[[\"name\", \"platform\", \"year\", \"genre\", \"publisher\", \"na_sales\", \"pal_sales\", \"jp_sales\", \"other_sales\", \"global_sales\"]]\n",
    "\n",
    "list(sales2019_clean)"
   ]
  },
  {
   "source": [
    "### Change column names:"
   ],
   "cell_type": "markdown",
   "metadata": {}
  },
  {
   "cell_type": "code",
   "execution_count": 20,
   "metadata": {},
   "outputs": [
    {
     "output_type": "execute_result",
     "data": {
      "text/plain": [
       "['name',\n",
       " 'console',\n",
       " 'year_of_release',\n",
       " 'genre',\n",
       " 'publisher',\n",
       " 'na_sales',\n",
       " 'eu_sales',\n",
       " 'jp_sales',\n",
       " 'other_sales',\n",
       " 'global_sales']"
      ]
     },
     "metadata": {},
     "execution_count": 20
    }
   ],
   "source": [
    "sales2019_clean.rename({\"platform\" : \"console\",\n",
    "                        \"year\" : \"year_of_release\",\n",
    "                        \"pal_sales\" : \"eu_sales\"}, \n",
    "                        axis = \"columns\",\n",
    "                        inplace = True)\n",
    "list(sales2019_clean)"
   ]
  },
  {
   "source": [
    "### Tidy up genre names:"
   ],
   "cell_type": "markdown",
   "metadata": {}
  },
  {
   "cell_type": "code",
   "execution_count": 21,
   "metadata": {},
   "outputs": [
    {
     "output_type": "execute_result",
     "data": {
      "text/plain": [
       "array(['Sports', 'Platform', 'Racing', 'Shooter', 'Role-Playing',\n",
       "       'Puzzle', 'Other', 'Simulation', 'Action-Adventure', 'Fighting',\n",
       "       'Music'], dtype=object)"
      ]
     },
     "metadata": {},
     "execution_count": 21
    }
   ],
   "source": [
    "sales2019_clean.replace({\"genre\" : {\"Misc\" : \"Other\",\n",
    "                                    \"Party\" : \"Other\",\n",
    "                                    \"Action\" : \"Action-Adventure\",\n",
    "                                    \"Strategy\" : \"Other\",\n",
    "                                    \"Adventure\" : \"Action-Adventure\",\n",
    "                                    \"MMO\" : \"Other\",\n",
    "                                    \"Sandbox\" : \"Other\",\n",
    "                                    \"Visual Novel\" : \"Other\",\n",
    "                                    \"Board Game\" : \"Other\",\n",
    "                                    \"Education\" : \"Other\"}},\n",
    "                                    inplace = True)\n",
    "\n",
    "sales2019_clean[\"genre\"].unique()\n",
    "\n"
   ]
  },
  {
   "source": [
    "### Check for missing values:"
   ],
   "cell_type": "markdown",
   "metadata": {}
  },
  {
   "cell_type": "code",
   "execution_count": 22,
   "metadata": {},
   "outputs": [
    {
     "output_type": "execute_result",
     "data": {
      "text/plain": [
       "name                   0\n",
       "console                0\n",
       "year_of_release      979\n",
       "genre                  0\n",
       "publisher              0\n",
       "na_sales           42828\n",
       "eu_sales           42603\n",
       "jp_sales           48749\n",
       "other_sales        40270\n",
       "global_sales       36377\n",
       "dtype: int64"
      ]
     },
     "metadata": {},
     "execution_count": 22
    }
   ],
   "source": [
    "(\n",
    "    sales2019_clean\n",
    "    .isnull()\n",
    "    .sum()\n",
    ")"
   ]
  },
  {
   "cell_type": "code",
   "execution_count": 23,
   "metadata": {},
   "outputs": [
    {
     "output_type": "execute_result",
     "data": {
      "text/plain": [
       "name                   0\n",
       "console                0\n",
       "year_of_release        0\n",
       "genre                  0\n",
       "publisher              0\n",
       "na_sales           42828\n",
       "eu_sales           42603\n",
       "jp_sales           48749\n",
       "other_sales        40270\n",
       "global_sales       36377\n",
       "dtype: int64"
      ]
     },
     "metadata": {},
     "execution_count": 23
    }
   ],
   "source": [
    "sales2019_clean[\"year_of_release\"].fillna(\"Unknown\", inplace = True)\n",
    "\n",
    "\n",
    "sales2019_clean.isnull().sum()"
   ]
  },
  {
   "cell_type": "code",
   "execution_count": 24,
   "metadata": {},
   "outputs": [
    {
     "output_type": "execute_result",
     "data": {
      "text/plain": [
       "name               0\n",
       "console            0\n",
       "year_of_release    0\n",
       "genre              0\n",
       "publisher          0\n",
       "na_sales           0\n",
       "eu_sales           0\n",
       "jp_sales           0\n",
       "other_sales        0\n",
       "global_sales       0\n",
       "dtype: int64"
      ]
     },
     "metadata": {},
     "execution_count": 24
    }
   ],
   "source": [
    "sales2019_clean.dropna(inplace = True)\n",
    "\n",
    "sales2019_clean.isnull().sum()"
   ]
  },
  {
   "cell_type": "code",
   "execution_count": 83,
   "metadata": {},
   "outputs": [],
   "source": []
  },
  {
   "cell_type": "code",
   "execution_count": 72,
   "metadata": {},
   "outputs": [],
   "source": []
  },
  {
   "cell_type": "code",
   "execution_count": null,
   "metadata": {},
   "outputs": [],
   "source": []
  }
 ],
 "metadata": {
  "kernelspec": {
   "display_name": "Python 3",
   "language": "python",
   "name": "python3"
  },
  "language_info": {
   "codemirror_mode": {
    "name": "ipython",
    "version": 3
   },
   "file_extension": ".py",
   "mimetype": "text/x-python",
   "name": "python",
   "nbconvert_exporter": "python",
   "pygments_lexer": "ipython3",
   "version": "3.8.5-final"
  },
  "varInspector": {
   "cols": {
    "lenName": 16,
    "lenType": 16,
    "lenVar": 40
   },
   "kernels_config": {
    "python": {
     "delete_cmd_postfix": "",
     "delete_cmd_prefix": "del ",
     "library": "var_list.py",
     "varRefreshCmd": "print(var_dic_list())"
    },
    "r": {
     "delete_cmd_postfix": ") ",
     "delete_cmd_prefix": "rm(",
     "library": "var_list.r",
     "varRefreshCmd": "cat(var_dic_list()) "
    }
   },
   "position": {
    "height": "232.1875px",
    "left": "967.4000244140625px",
    "right": "20px",
    "top": "83px",
    "width": "525.2000122070312px"
   },
   "types_to_exclude": [
    "module",
    "function",
    "builtin_function_or_method",
    "instance",
    "_Feature"
   ],
   "window_display": true
  }
 },
 "nbformat": 4,
 "nbformat_minor": 4
}