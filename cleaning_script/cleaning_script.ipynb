{
 "cells": [
  {
   "cell_type": "markdown",
   "metadata": {},
   "source": [
    "### Import Libraries:"
   ]
  },
  {
   "cell_type": "code",
   "execution_count": 1,
   "metadata": {},
   "outputs": [],
   "source": [
    "import pandas as pd\n",
    "import numpy as np\n",
    "import janitor"
   ]
  },
  {
   "cell_type": "code",
   "execution_count": 2,
   "metadata": {},
   "outputs": [
    {
     "output_type": "stream",
     "name": "stdout",
     "text": [
      "/Users/Natifu/github_projects/python_games/cleaning_script\n"
     ]
    }
   ],
   "source": [
    "!pwd"
   ]
  },
  {
   "cell_type": "markdown",
   "metadata": {},
   "source": [
    "### Load in Data:"
   ]
  },
  {
   "cell_type": "code",
   "execution_count": 3,
   "metadata": {},
   "outputs": [],
   "source": [
    "ps4_raw = pd.read_csv(\"../raw_data/ps4-game-sales.csv\", encoding = \"ISO-8859-1\")"
   ]
  },
  {
   "cell_type": "code",
   "execution_count": 4,
   "metadata": {},
   "outputs": [],
   "source": [
    "xbox_raw = pd.read_csv(\"../raw_data/xbox-one-game-sales.csv\", encoding = \"ISO-8859-1\")"
   ]
  },
  {
   "cell_type": "code",
   "execution_count": 5,
   "metadata": {},
   "outputs": [],
   "source": [
    "sales2016_raw = pd.read_csv(\"../raw_data/sales-2016-with-ratings.csv\", encoding = \"ISO-8859-1\")"
   ]
  },
  {
   "cell_type": "code",
   "execution_count": 6,
   "metadata": {},
   "outputs": [],
   "source": [
    "sales2019_raw = pd.read_csv(\"../raw_data/sales-2019.csv\", encoding = \"ISO-8859-1\")"
   ]
  },
  {
   "cell_type": "markdown",
   "metadata": {},
   "source": [
    "# 2016 Sales"
   ]
  },
  {
   "cell_type": "markdown",
   "metadata": {},
   "source": [
    "### Check for missing values:"
   ]
  },
  {
   "cell_type": "code",
   "execution_count": 7,
   "metadata": {},
   "outputs": [
    {
     "output_type": "execute_result",
     "data": {
      "text/plain": [
       "Name                  2\n",
       "Platform              0\n",
       "Year_of_Release     269\n",
       "Genre                 2\n",
       "Publisher            54\n",
       "NA_Sales              0\n",
       "EU_Sales              0\n",
       "JP_Sales              0\n",
       "Other_Sales           0\n",
       "Global_Sales          0\n",
       "Critic_Score       8582\n",
       "Critic_Count       8582\n",
       "User_Score         6704\n",
       "User_Count         9129\n",
       "Developer          6623\n",
       "Rating             6769\n",
       "dtype: int64"
      ]
     },
     "metadata": {},
     "execution_count": 7
    }
   ],
   "source": [
    "sales2016_raw.isnull().sum()"
   ]
  },
  {
   "cell_type": "markdown",
   "metadata": {},
   "source": [
    "### Replace missing values:"
   ]
  },
  {
   "cell_type": "code",
   "execution_count": 8,
   "metadata": {},
   "outputs": [
    {
     "output_type": "execute_result",
     "data": {
      "text/plain": [
       "Name                  0\n",
       "Platform              0\n",
       "Year_of_Release       0\n",
       "Genre                 0\n",
       "Publisher             0\n",
       "NA_Sales              0\n",
       "EU_Sales              0\n",
       "JP_Sales              0\n",
       "Other_Sales           0\n",
       "Global_Sales          0\n",
       "Critic_Score       8582\n",
       "Critic_Count       8582\n",
       "User_Score         6704\n",
       "User_Count         9129\n",
       "Developer          6623\n",
       "Rating             6769\n",
       "dtype: int64"
      ]
     },
     "metadata": {},
     "execution_count": 8
    }
   ],
   "source": [
    "sales2016_raw[\"Name\"].fillna(\"Unknown\", inplace = True)\n",
    "sales2016_raw[\"Year_of_Release\"].fillna(\"Unknown\", inplace = True)\n",
    "sales2016_raw[\"Genre\"].fillna(\"Other\", inplace = True)\n",
    "sales2016_raw[\"Publisher\"].fillna(\"Unknown\", inplace = True)\n",
    "\n",
    "sales2016_raw.isnull().sum()"
   ]
  },
  {
   "cell_type": "markdown",
   "metadata": {},
   "source": [
    "### Drop unwanted columns:"
   ]
  },
  {
   "cell_type": "code",
   "execution_count": 9,
   "metadata": {},
   "outputs": [
    {
     "output_type": "execute_result",
     "data": {
      "text/plain": [
       "Name               0\n",
       "Platform           0\n",
       "Year_of_Release    0\n",
       "Genre              0\n",
       "Publisher          0\n",
       "NA_Sales           0\n",
       "EU_Sales           0\n",
       "JP_Sales           0\n",
       "Other_Sales        0\n",
       "Global_Sales       0\n",
       "dtype: int64"
      ]
     },
     "metadata": {},
     "execution_count": 9
    }
   ],
   "source": [
    "sales2016_clean = sales2016_raw.drop([\"Critic_Score\", \"Critic_Count\", \"User_Score\", \"User_Count\", \"Developer\", \"Rating\"], \n",
    "                   axis = 1)\n",
    "\n",
    "sales2016_clean.isnull().sum()"
   ]
  },
  {
   "source": [
    "### Clean column names:"
   ],
   "cell_type": "markdown",
   "metadata": {}
  },
  {
   "cell_type": "code",
   "execution_count": 10,
   "metadata": {},
   "outputs": [],
   "source": [
    "sales2016_clean = sales2016_clean.clean_names()"
   ]
  },
  {
   "source": [
    "### Rename platform column to 'console':"
   ],
   "cell_type": "markdown",
   "metadata": {}
  },
  {
   "cell_type": "code",
   "execution_count": 11,
   "metadata": {},
   "outputs": [],
   "source": [
    "sales2016_clean.rename({\"platform\" : \"console\"}, \n",
    "                        axis = \"columns\",\n",
    "                        inplace = True)"
   ]
  },
  {
   "cell_type": "code",
   "execution_count": 12,
   "metadata": {},
   "outputs": [
    {
     "output_type": "execute_result",
     "data": {
      "text/plain": [
       "array(['Sports', 'Platform', 'Racing', 'Role-Playing', 'Puzzle', 'Misc',\n",
       "       'Shooter', 'Simulation', 'Action', 'Fighting', 'Adventure',\n",
       "       'Strategy', 'Other'], dtype=object)"
      ]
     },
     "metadata": {},
     "execution_count": 12
    }
   ],
   "source": [
    "sales2016_clean[\"genre\"].unique()"
   ]
  },
  {
   "source": [
    "### Tidy up genre names:"
   ],
   "cell_type": "markdown",
   "metadata": {}
  },
  {
   "cell_type": "code",
   "execution_count": 13,
   "metadata": {},
   "outputs": [
    {
     "output_type": "execute_result",
     "data": {
      "text/plain": [
       "array(['Sports', 'Platform', 'Racing', 'Role-Playing', 'Puzzle', 'Other',\n",
       "       'Shooter', 'Simulation', 'Action-Adventure', 'Fighting'],\n",
       "      dtype=object)"
      ]
     },
     "metadata": {},
     "execution_count": 13
    }
   ],
   "source": [
    "sales2016_clean.replace({\"genre\" : {\"Misc\": \"Other\",\n",
    "                                    \"Action\": \"Action-Adventure\",\n",
    "                                    \"Adventure\": \"Action-Adventure\",\n",
    "                                    \"Strategy\": \"Other\"}}, \n",
    "                                    inplace = True)\n",
    "\n",
    "sales2016_clean[\"genre\"].unique()"
   ]
  },
  {
   "source": [
    "# 2019 Sales"
   ],
   "cell_type": "markdown",
   "metadata": {}
  },
  {
   "source": [
    "### Check for missing values:"
   ],
   "cell_type": "markdown",
   "metadata": {}
  },
  {
   "cell_type": "code",
   "execution_count": 14,
   "metadata": {},
   "outputs": [
    {
     "output_type": "execute_result",
     "data": {
      "text/plain": [
       "Rank                  0\n",
       "Name                  0\n",
       "basename              0\n",
       "Genre                 0\n",
       "ESRB_Rating       32169\n",
       "Platform              0\n",
       "Publisher             0\n",
       "Developer            17\n",
       "VGChartz_Score    55792\n",
       "Critic_Score      49256\n",
       "User_Score        55457\n",
       "Total_Shipped     53965\n",
       "Global_Sales      36377\n",
       "NA_Sales          42828\n",
       "PAL_Sales         42603\n",
       "JP_Sales          48749\n",
       "Other_Sales       40270\n",
       "Year                979\n",
       "Last_Update       46606\n",
       "url                   0\n",
       "status                0\n",
       "Vgchartzscore     54993\n",
       "img_url               0\n",
       "dtype: int64"
      ]
     },
     "metadata": {},
     "execution_count": 14
    }
   ],
   "source": [
    "\n",
    "(\n",
    "sales2019_raw\n",
    "    .isnull()\n",
    "    .sum()\n",
    ")\n"
   ]
  },
  {
   "source": [
    "### Clean names:"
   ],
   "cell_type": "markdown",
   "metadata": {}
  },
  {
   "cell_type": "code",
   "execution_count": 15,
   "metadata": {},
   "outputs": [],
   "source": [
    "sales2019_clean = sales2019_raw.clean_names()"
   ]
  },
  {
   "cell_type": "code",
   "execution_count": 16,
   "metadata": {},
   "outputs": [
    {
     "output_type": "execute_result",
     "data": {
      "text/plain": [
       "['name',\n",
       " 'console',\n",
       " 'year_of_release',\n",
       " 'genre',\n",
       " 'publisher',\n",
       " 'na_sales',\n",
       " 'eu_sales',\n",
       " 'jp_sales',\n",
       " 'other_sales',\n",
       " 'global_sales']"
      ]
     },
     "metadata": {},
     "execution_count": 16
    }
   ],
   "source": [
    "list(sales2016_clean)"
   ]
  },
  {
   "cell_type": "code",
   "execution_count": 17,
   "metadata": {},
   "outputs": [
    {
     "output_type": "execute_result",
     "data": {
      "text/plain": [
       "['rank',\n",
       " 'name',\n",
       " 'basename',\n",
       " 'genre',\n",
       " 'esrb_rating',\n",
       " 'platform',\n",
       " 'publisher',\n",
       " 'developer',\n",
       " 'vgchartz_score',\n",
       " 'critic_score',\n",
       " 'user_score',\n",
       " 'total_shipped',\n",
       " 'global_sales',\n",
       " 'na_sales',\n",
       " 'pal_sales',\n",
       " 'jp_sales',\n",
       " 'other_sales',\n",
       " 'year',\n",
       " 'last_update',\n",
       " 'url',\n",
       " 'status',\n",
       " 'vgchartzscore',\n",
       " 'img_url']"
      ]
     },
     "metadata": {},
     "execution_count": 17
    }
   ],
   "source": [
    "list(sales2019_clean)"
   ]
  },
  {
   "source": [
    "### Select relevant columns:"
   ],
   "cell_type": "markdown",
   "metadata": {}
  },
  {
   "cell_type": "code",
   "execution_count": 18,
   "metadata": {},
   "outputs": [
    {
     "output_type": "execute_result",
     "data": {
      "text/plain": [
       "['name',\n",
       " 'platform',\n",
       " 'year',\n",
       " 'genre',\n",
       " 'publisher',\n",
       " 'na_sales',\n",
       " 'pal_sales',\n",
       " 'jp_sales',\n",
       " 'other_sales',\n",
       " 'global_sales']"
      ]
     },
     "metadata": {},
     "execution_count": 18
    }
   ],
   "source": [
    "sales2019_clean = sales2019_clean[[\"name\", \"platform\", \"year\", \"genre\", \"publisher\", \"na_sales\", \"pal_sales\", \"jp_sales\", \"other_sales\", \"global_sales\"]]\n",
    "\n",
    "list(sales2019_clean)"
   ]
  },
  {
   "source": [
    "### Change column names:"
   ],
   "cell_type": "markdown",
   "metadata": {}
  },
  {
   "cell_type": "code",
   "execution_count": 19,
   "metadata": {},
   "outputs": [
    {
     "output_type": "execute_result",
     "data": {
      "text/plain": [
       "['name',\n",
       " 'console',\n",
       " 'year_of_release',\n",
       " 'genre',\n",
       " 'publisher',\n",
       " 'na_sales',\n",
       " 'eu_sales',\n",
       " 'jp_sales',\n",
       " 'other_sales',\n",
       " 'global_sales']"
      ]
     },
     "metadata": {},
     "execution_count": 19
    }
   ],
   "source": [
    "sales2019_clean.rename({\"platform\" : \"console\",\n",
    "                        \"year\" : \"year_of_release\",\n",
    "                        \"pal_sales\" : \"eu_sales\"}, \n",
    "                        axis = \"columns\",\n",
    "                        inplace = True)\n",
    "list(sales2019_clean)"
   ]
  },
  {
   "source": [
    "### Tidy up genre names:"
   ],
   "cell_type": "markdown",
   "metadata": {}
  },
  {
   "cell_type": "code",
   "execution_count": 20,
   "metadata": {},
   "outputs": [
    {
     "output_type": "execute_result",
     "data": {
      "text/plain": [
       "array(['Sports', 'Platform', 'Racing', 'Shooter', 'Role-Playing',\n",
       "       'Puzzle', 'Other', 'Simulation', 'Action-Adventure', 'Fighting',\n",
       "       'Music'], dtype=object)"
      ]
     },
     "metadata": {},
     "execution_count": 20
    }
   ],
   "source": [
    "sales2019_clean.replace({\"genre\" : {\"Misc\" : \"Other\",\n",
    "                                    \"Party\" : \"Other\",\n",
    "                                    \"Action\" : \"Action-Adventure\",\n",
    "                                    \"Strategy\" : \"Other\",\n",
    "                                    \"Adventure\" : \"Action-Adventure\",\n",
    "                                    \"MMO\" : \"Other\",\n",
    "                                    \"Sandbox\" : \"Other\",\n",
    "                                    \"Visual Novel\" : \"Other\",\n",
    "                                    \"Board Game\" : \"Other\",\n",
    "                                    \"Education\" : \"Other\"}},\n",
    "                                    inplace = True)\n",
    "\n",
    "sales2019_clean[\"genre\"].unique()\n",
    "\n"
   ]
  },
  {
   "source": [
    "### Check for missing values:"
   ],
   "cell_type": "markdown",
   "metadata": {}
  },
  {
   "cell_type": "code",
   "execution_count": 21,
   "metadata": {},
   "outputs": [
    {
     "output_type": "execute_result",
     "data": {
      "text/plain": [
       "name                   0\n",
       "console                0\n",
       "year_of_release      979\n",
       "genre                  0\n",
       "publisher              0\n",
       "na_sales           42828\n",
       "eu_sales           42603\n",
       "jp_sales           48749\n",
       "other_sales        40270\n",
       "global_sales       36377\n",
       "dtype: int64"
      ]
     },
     "metadata": {},
     "execution_count": 21
    }
   ],
   "source": [
    "(\n",
    "    sales2019_clean\n",
    "    .isnull()\n",
    "    .sum()\n",
    ")"
   ]
  },
  {
   "cell_type": "code",
   "execution_count": 22,
   "metadata": {},
   "outputs": [
    {
     "output_type": "execute_result",
     "data": {
      "text/plain": [
       "name                   0\n",
       "console                0\n",
       "year_of_release        0\n",
       "genre                  0\n",
       "publisher              0\n",
       "na_sales           42828\n",
       "eu_sales           42603\n",
       "jp_sales           48749\n",
       "other_sales        40270\n",
       "global_sales       36377\n",
       "dtype: int64"
      ]
     },
     "metadata": {},
     "execution_count": 22
    }
   ],
   "source": [
    "sales2019_clean[\"year_of_release\"].fillna(\"Unknown\", inplace = True)\n",
    "\n",
    "\n",
    "sales2019_clean.isnull().sum()"
   ]
  },
  {
   "cell_type": "code",
   "execution_count": 23,
   "metadata": {},
   "outputs": [
    {
     "output_type": "execute_result",
     "data": {
      "text/plain": [
       "name               0\n",
       "console            0\n",
       "year_of_release    0\n",
       "genre              0\n",
       "publisher          0\n",
       "na_sales           0\n",
       "eu_sales           0\n",
       "jp_sales           0\n",
       "other_sales        0\n",
       "global_sales       0\n",
       "dtype: int64"
      ]
     },
     "metadata": {},
     "execution_count": 23
    }
   ],
   "source": [
    "sales2019_clean.dropna(inplace = True)\n",
    "\n",
    "sales2019_clean.isnull().sum()"
   ]
  },
  {
   "source": [
    "### Join data sets together:"
   ],
   "cell_type": "markdown",
   "metadata": {}
  },
  {
   "cell_type": "code",
   "execution_count": 24,
   "metadata": {},
   "outputs": [],
   "source": [
    "sales_all_years = pd.concat([sales2016_clean, sales2019_clean]).drop_duplicates().reset_index(drop=True)"
   ]
  },
  {
   "source": [
    "# PS4 Sales"
   ],
   "cell_type": "markdown",
   "metadata": {}
  },
  {
   "source": [
    "### Check for missing values:"
   ],
   "cell_type": "markdown",
   "metadata": {}
  },
  {
   "cell_type": "code",
   "execution_count": 25,
   "metadata": {},
   "outputs": [
    {
     "output_type": "execute_result",
     "data": {
      "text/plain": [
       "Game               0\n",
       "Year             209\n",
       "Genre              0\n",
       "Publisher        209\n",
       "North America      0\n",
       "Europe             0\n",
       "Japan              0\n",
       "Rest of World      0\n",
       "Global             0\n",
       "dtype: int64"
      ]
     },
     "metadata": {},
     "execution_count": 25
    }
   ],
   "source": [
    "ps4_raw.isnull().sum()"
   ]
  },
  {
   "source": [
    "### Clean names:"
   ],
   "cell_type": "markdown",
   "metadata": {}
  },
  {
   "cell_type": "code",
   "execution_count": 26,
   "metadata": {},
   "outputs": [],
   "source": [
    "ps4_clean = ps4_raw.clean_names()"
   ]
  },
  {
   "source": [
    "### Add a column for console:"
   ],
   "cell_type": "markdown",
   "metadata": {}
  },
  {
   "cell_type": "code",
   "execution_count": 27,
   "metadata": {},
   "outputs": [
    {
     "output_type": "execute_result",
     "data": {
      "text/plain": [
       "['game',\n",
       " 'year',\n",
       " 'genre',\n",
       " 'publisher',\n",
       " 'north_america',\n",
       " 'europe',\n",
       " 'japan',\n",
       " 'rest_of_world',\n",
       " 'global',\n",
       " 'console']"
      ]
     },
     "metadata": {},
     "execution_count": 27
    }
   ],
   "source": [
    "ps4_clean[\"console\"] = \"PS4\"\n",
    "\n",
    "list(ps4_clean)"
   ]
  },
  {
   "source": [
    "### Rename columns:"
   ],
   "cell_type": "markdown",
   "metadata": {}
  },
  {
   "cell_type": "code",
   "execution_count": 28,
   "metadata": {},
   "outputs": [
    {
     "output_type": "execute_result",
     "data": {
      "text/plain": [
       "['name',\n",
       " 'year_of_release',\n",
       " 'genre',\n",
       " 'publisher',\n",
       " 'na_sales',\n",
       " 'eu_sales',\n",
       " 'jp_sales',\n",
       " 'other_sales',\n",
       " 'global_sales',\n",
       " 'console']"
      ]
     },
     "metadata": {},
     "execution_count": 28
    }
   ],
   "source": [
    "ps4_clean.rename({\"game\" : \"name\",\n",
    "                  \"year\" : \"year_of_release\",\n",
    "                  \"north_america\" : \"na_sales\",\n",
    "                  \"europe\" : \"eu_sales\",\n",
    "                  \"japan\" : \"jp_sales\",\n",
    "                  \"rest_of_world\" : \"other_sales\",\n",
    "                  \"global\" : \"global_sales\"}, \n",
    "                  \n",
    "                  axis = \"columns\",\n",
    "                  inplace = True)\n",
    "\n",
    "list(ps4_clean)\n"
   ]
  },
  {
   "source": [
    "### Sort genre column:"
   ],
   "cell_type": "markdown",
   "metadata": {}
  },
  {
   "cell_type": "code",
   "execution_count": 29,
   "metadata": {},
   "outputs": [
    {
     "output_type": "execute_result",
     "data": {
      "text/plain": [
       "array(['Action', 'Shooter', 'Action-Adventure', 'Sports', 'Role-Playing',\n",
       "       'Misc', 'Platform', 'Racing', 'Fighting', 'Adventure', 'MMO',\n",
       "       'Simulation', 'Music', 'Party', 'Strategy', 'Puzzle',\n",
       "       'Visual Novel'], dtype=object)"
      ]
     },
     "metadata": {},
     "execution_count": 29
    }
   ],
   "source": [
    "ps4_clean[\"genre\"].unique()"
   ]
  },
  {
   "cell_type": "code",
   "execution_count": 30,
   "metadata": {},
   "outputs": [
    {
     "output_type": "execute_result",
     "data": {
      "text/plain": [
       "array(['Sports', 'Platform', 'Racing', 'Role-Playing', 'Puzzle', 'Other',\n",
       "       'Shooter', 'Simulation', 'Action-Adventure', 'Fighting', 'Music'],\n",
       "      dtype=object)"
      ]
     },
     "metadata": {},
     "execution_count": 30
    }
   ],
   "source": [
    "sales_all_years[\"genre\"].unique()"
   ]
  },
  {
   "cell_type": "code",
   "execution_count": 31,
   "metadata": {},
   "outputs": [
    {
     "output_type": "execute_result",
     "data": {
      "text/plain": [
       "array(['Action-Adventure', 'Shooter', 'Sports', 'Role-Playing', 'Other',\n",
       "       'Platform', 'Racing', 'Fighting', 'Simulation', 'Music'],\n",
       "      dtype=object)"
      ]
     },
     "metadata": {},
     "execution_count": 31
    }
   ],
   "source": [
    "ps4_clean.replace({\"genre\" : {\"Action\" : \"Action-Adventure\",\n",
    "                              \"Misc\" : \"Other\",\n",
    "                              \"Adventure\" : \"Action-Adventure\",\n",
    "                              \"MMO\" : \"Other\",\n",
    "                              \"Party\" : \"Other\",\n",
    "                              \"Strategy\" : \"Other\",\n",
    "                              \"Puzzle\" : \"Other\",\n",
    "                              \"Visual Novel\" : \"Other\"}},\n",
    "                              inplace = True)\n",
    "\n",
    "\n",
    "ps4_clean[\"genre\"].unique()\n",
    "\n",
    "\n",
    "                           "
   ]
  },
  {
   "cell_type": "code",
   "execution_count": 32,
   "metadata": {},
   "outputs": [
    {
     "output_type": "execute_result",
     "data": {
      "text/plain": [
       "name                 0\n",
       "year_of_release    209\n",
       "genre                0\n",
       "publisher          209\n",
       "na_sales             0\n",
       "eu_sales             0\n",
       "jp_sales             0\n",
       "other_sales          0\n",
       "global_sales         0\n",
       "console              0\n",
       "dtype: int64"
      ]
     },
     "metadata": {},
     "execution_count": 32
    }
   ],
   "source": [
    "ps4_clean.isnull().sum()"
   ]
  },
  {
   "cell_type": "code",
   "execution_count": 33,
   "metadata": {},
   "outputs": [
    {
     "output_type": "execute_result",
     "data": {
      "text/plain": [
       "name               0\n",
       "year_of_release    0\n",
       "genre              0\n",
       "publisher          0\n",
       "na_sales           0\n",
       "eu_sales           0\n",
       "jp_sales           0\n",
       "other_sales        0\n",
       "global_sales       0\n",
       "console            0\n",
       "dtype: int64"
      ]
     },
     "metadata": {},
     "execution_count": 33
    }
   ],
   "source": [
    "ps4_clean[\"year_of_release\"].fillna(\"Unknown\", inplace = True)\n",
    "ps4_clean[\"publisher\"].fillna(\"Unknown\", inplace = True)\n",
    "\n",
    "ps4_clean.isnull().sum()"
   ]
  },
  {
   "source": [
    "### Change order of columns:"
   ],
   "cell_type": "markdown",
   "metadata": {}
  },
  {
   "cell_type": "code",
   "execution_count": 34,
   "metadata": {},
   "outputs": [
    {
     "output_type": "execute_result",
     "data": {
      "text/plain": [
       "['name',\n",
       " 'console',\n",
       " 'year_of_release',\n",
       " 'genre',\n",
       " 'publisher',\n",
       " 'na_sales',\n",
       " 'eu_sales',\n",
       " 'jp_sales',\n",
       " 'other_sales',\n",
       " 'global_sales']"
      ]
     },
     "metadata": {},
     "execution_count": 34
    }
   ],
   "source": [
    "list(sales_all_years)"
   ]
  },
  {
   "cell_type": "code",
   "execution_count": 35,
   "metadata": {},
   "outputs": [
    {
     "output_type": "execute_result",
     "data": {
      "text/plain": [
       "['name',\n",
       " 'console',\n",
       " 'year_of_release',\n",
       " 'genre',\n",
       " 'publisher',\n",
       " 'na_sales',\n",
       " 'eu_sales',\n",
       " 'jp_sales',\n",
       " 'other_sales',\n",
       " 'global_sales']"
      ]
     },
     "metadata": {},
     "execution_count": 35
    }
   ],
   "source": [
    "ps4_clean = ps4_clean[[\"name\", \"console\", \"year_of_release\", \"genre\", \"publisher\", \"na_sales\", \"eu_sales\", \"jp_sales\", \"other_sales\", \"global_sales\"]]\n",
    "\n",
    "list(ps4_clean)"
   ]
  },
  {
   "source": [
    "# XBox Sales"
   ],
   "cell_type": "markdown",
   "metadata": {}
  },
  {
   "source": [
    "### Checking for missing values:"
   ],
   "cell_type": "markdown",
   "metadata": {}
  },
  {
   "cell_type": "code",
   "execution_count": 36,
   "metadata": {},
   "outputs": [
    {
     "output_type": "execute_result",
     "data": {
      "text/plain": [
       "Pos                0\n",
       "Game               0\n",
       "Year             108\n",
       "Genre              0\n",
       "Publisher        108\n",
       "North America      0\n",
       "Europe             0\n",
       "Japan              0\n",
       "Rest of World      0\n",
       "Global             0\n",
       "dtype: int64"
      ]
     },
     "metadata": {},
     "execution_count": 36
    }
   ],
   "source": [
    "xbox_raw.isnull().sum()"
   ]
  },
  {
   "cell_type": "code",
   "execution_count": 37,
   "metadata": {},
   "outputs": [
    {
     "output_type": "execute_result",
     "data": {
      "text/plain": [
       "['pos',\n",
       " 'game',\n",
       " 'year',\n",
       " 'genre',\n",
       " 'publisher',\n",
       " 'north_america',\n",
       " 'europe',\n",
       " 'japan',\n",
       " 'rest_of_world',\n",
       " 'global']"
      ]
     },
     "metadata": {},
     "execution_count": 37
    }
   ],
   "source": [
    "xbox_clean = xbox_raw.clean_names()\n",
    "\n",
    "list(xbox_clean)"
   ]
  },
  {
   "cell_type": "code",
   "execution_count": 38,
   "metadata": {},
   "outputs": [
    {
     "output_type": "execute_result",
     "data": {
      "text/plain": [
       "pos              0\n",
       "game             0\n",
       "year             0\n",
       "genre            0\n",
       "publisher        0\n",
       "north_america    0\n",
       "europe           0\n",
       "japan            0\n",
       "rest_of_world    0\n",
       "global           0\n",
       "dtype: int64"
      ]
     },
     "metadata": {},
     "execution_count": 38
    }
   ],
   "source": [
    "xbox_clean[\"year\"].fillna(\"Unknown\", inplace = True)\n",
    "xbox_clean[\"publisher\"].fillna(\"Unknown\", inplace = True)\n",
    "\n",
    "xbox_clean.isnull().sum()"
   ]
  },
  {
   "source": [
    "### Change column names:"
   ],
   "cell_type": "markdown",
   "metadata": {}
  },
  {
   "cell_type": "code",
   "execution_count": 39,
   "metadata": {},
   "outputs": [
    {
     "output_type": "execute_result",
     "data": {
      "text/plain": [
       "['name',\n",
       " 'console',\n",
       " 'year_of_release',\n",
       " 'genre',\n",
       " 'publisher',\n",
       " 'na_sales',\n",
       " 'eu_sales',\n",
       " 'jp_sales',\n",
       " 'other_sales',\n",
       " 'global_sales']"
      ]
     },
     "metadata": {},
     "execution_count": 39
    }
   ],
   "source": [
    "list(ps4_clean) # check PS4 column names"
   ]
  },
  {
   "cell_type": "code",
   "execution_count": 40,
   "metadata": {},
   "outputs": [
    {
     "output_type": "execute_result",
     "data": {
      "text/plain": [
       "['pos',\n",
       " 'game',\n",
       " 'year',\n",
       " 'genre',\n",
       " 'publisher',\n",
       " 'north_america',\n",
       " 'europe',\n",
       " 'japan',\n",
       " 'rest_of_world',\n",
       " 'global']"
      ]
     },
     "metadata": {},
     "execution_count": 40
    }
   ],
   "source": [
    "list(xbox_clean)"
   ]
  },
  {
   "cell_type": "code",
   "execution_count": 41,
   "metadata": {},
   "outputs": [
    {
     "output_type": "execute_result",
     "data": {
      "text/plain": [
       "['pos',\n",
       " 'name',\n",
       " 'year_of_release',\n",
       " 'genre',\n",
       " 'publisher',\n",
       " 'na_sales',\n",
       " 'eu_sales',\n",
       " 'jp_sales',\n",
       " 'other_sales',\n",
       " 'global_sales']"
      ]
     },
     "metadata": {},
     "execution_count": 41
    }
   ],
   "source": [
    "xbox_clean.rename({\"game\" : \"name\",\n",
    "                   \"north_america\" : \"na_sales\",\n",
    "                   \"europe\" : \"eu_sales\",\n",
    "                   \"japan\" : \"jp_sales\",\n",
    "                   \"rest_of_world\" : \"other_sales\",\n",
    "                   \"global\" : \"global_sales\",\n",
    "                   \"year\" : \"year_of_release\"},\n",
    "                   axis = \"columns\",\n",
    "                   inplace = True)\n",
    "\n",
    "list(xbox_clean)"
   ]
  },
  {
   "cell_type": "code",
   "execution_count": 42,
   "metadata": {},
   "outputs": [
    {
     "output_type": "execute_result",
     "data": {
      "text/plain": [
       "['name',\n",
       " 'year_of_release',\n",
       " 'genre',\n",
       " 'publisher',\n",
       " 'na_sales',\n",
       " 'eu_sales',\n",
       " 'jp_sales',\n",
       " 'other_sales',\n",
       " 'global_sales']"
      ]
     },
     "metadata": {},
     "execution_count": 42
    }
   ],
   "source": [
    "xbox_clean.drop([\"pos\"],\n",
    "axis = 1,\n",
    "inplace = True)\n",
    "\n",
    "list(xbox_clean)"
   ]
  },
  {
   "source": [
    "### Add a new column for 'console':"
   ],
   "cell_type": "markdown",
   "metadata": {}
  },
  {
   "cell_type": "code",
   "execution_count": 43,
   "metadata": {},
   "outputs": [
    {
     "output_type": "execute_result",
     "data": {
      "text/plain": [
       "['name',\n",
       " 'year_of_release',\n",
       " 'genre',\n",
       " 'publisher',\n",
       " 'na_sales',\n",
       " 'eu_sales',\n",
       " 'jp_sales',\n",
       " 'other_sales',\n",
       " 'global_sales',\n",
       " 'console']"
      ]
     },
     "metadata": {},
     "execution_count": 43
    }
   ],
   "source": [
    "xbox_clean[\"console\"] = \"XOne\"\n",
    "\n",
    "list(xbox_clean)"
   ]
  },
  {
   "source": [
    "### Change order of columns:"
   ],
   "cell_type": "markdown",
   "metadata": {}
  },
  {
   "cell_type": "code",
   "execution_count": 44,
   "metadata": {},
   "outputs": [
    {
     "output_type": "execute_result",
     "data": {
      "text/plain": [
       "['name',\n",
       " 'console',\n",
       " 'year_of_release',\n",
       " 'genre',\n",
       " 'publisher',\n",
       " 'na_sales',\n",
       " 'eu_sales',\n",
       " 'jp_sales',\n",
       " 'other_sales',\n",
       " 'global_sales']"
      ]
     },
     "metadata": {},
     "execution_count": 44
    }
   ],
   "source": [
    "xbox_clean = xbox_clean[[\"name\", \"console\", \"year_of_release\", \"genre\", \"publisher\", \"na_sales\", \"eu_sales\", \"jp_sales\", \"other_sales\", \"global_sales\"]]\n",
    "\n",
    "list(xbox_clean)"
   ]
  },
  {
   "source": [
    "### Sort out genres:"
   ],
   "cell_type": "markdown",
   "metadata": {}
  },
  {
   "cell_type": "code",
   "execution_count": 45,
   "metadata": {},
   "outputs": [
    {
     "output_type": "execute_result",
     "data": {
      "text/plain": [
       "array(['Action', 'Shooter', 'Action-Adventure', 'Misc', 'Role-Playing',\n",
       "       'Racing', 'Sports', 'Fighting', 'Adventure', 'MMO', 'Music',\n",
       "       'Simulation', 'Strategy', 'Platform', 'Puzzle', 'Visual Novel'],\n",
       "      dtype=object)"
      ]
     },
     "metadata": {},
     "execution_count": 45
    }
   ],
   "source": [
    "xbox_clean[\"genre\"].unique()"
   ]
  },
  {
   "cell_type": "code",
   "execution_count": 46,
   "metadata": {},
   "outputs": [
    {
     "output_type": "execute_result",
     "data": {
      "text/plain": [
       "array(['Action-Adventure', 'Shooter', 'Other', 'Role-Playing', 'Racing',\n",
       "       'Sports', 'Fighting', 'Music', 'Simulation', 'Platform'],\n",
       "      dtype=object)"
      ]
     },
     "metadata": {},
     "execution_count": 46
    }
   ],
   "source": [
    "xbox_clean.replace({\"genre\" : {\"Action\" : \"Action-Adventure\",\n",
    "                              \"Misc\" : \"Other\",\n",
    "                              \"Adventure\" : \"Action-Adventure\",\n",
    "                              \"MMO\" : \"Other\",\n",
    "                              \"Party\" : \"Other\",\n",
    "                              \"Strategy\" : \"Other\",\n",
    "                              \"Puzzle\" : \"Other\",\n",
    "                              \"Visual Novel\" : \"Other\"}},\n",
    "                              inplace = True)\n",
    "\n",
    "\n",
    "xbox_clean[\"genre\"].unique()"
   ]
  },
  {
   "source": [
    "### Join datasets together:"
   ],
   "cell_type": "markdown",
   "metadata": {}
  },
  {
   "cell_type": "code",
   "execution_count": 47,
   "metadata": {},
   "outputs": [],
   "source": [
    "xbox_ps4_clean = pd.concat([ps4_clean, xbox_clean]).drop_duplicates().reset_index(drop=True)"
   ]
  },
  {
   "cell_type": "code",
   "execution_count": 48,
   "metadata": {},
   "outputs": [],
   "source": [
    "game_sales_clean = pd.concat([xbox_ps4_clean, sales_all_years]).drop_duplicates().reset_index(drop=True)"
   ]
  },
  {
   "cell_type": "code",
   "execution_count": null,
   "metadata": {},
   "outputs": [],
   "source": []
  }
 ],
 "metadata": {
  "kernelspec": {
   "display_name": "Python 3",
   "language": "python",
   "name": "python3"
  },
  "language_info": {
   "codemirror_mode": {
    "name": "ipython",
    "version": 3
   },
   "file_extension": ".py",
   "mimetype": "text/x-python",
   "name": "python",
   "nbconvert_exporter": "python",
   "pygments_lexer": "ipython3",
   "version": "3.8.5-final"
  },
  "varInspector": {
   "cols": {
    "lenName": 16,
    "lenType": 16,
    "lenVar": 40
   },
   "kernels_config": {
    "python": {
     "delete_cmd_postfix": "",
     "delete_cmd_prefix": "del ",
     "library": "var_list.py",
     "varRefreshCmd": "print(var_dic_list())"
    },
    "r": {
     "delete_cmd_postfix": ") ",
     "delete_cmd_prefix": "rm(",
     "library": "var_list.r",
     "varRefreshCmd": "cat(var_dic_list()) "
    }
   },
   "position": {
    "height": "232.1875px",
    "left": "967.4000244140625px",
    "right": "20px",
    "top": "83px",
    "width": "525.2000122070312px"
   },
   "types_to_exclude": [
    "module",
    "function",
    "builtin_function_or_method",
    "instance",
    "_Feature"
   ],
   "window_display": true
  }
 },
 "nbformat": 4,
 "nbformat_minor": 4
}